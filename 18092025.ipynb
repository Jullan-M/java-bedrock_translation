{
 "cells": [
  {
   "cell_type": "code",
   "execution_count": 1,
   "id": "11cf180e",
   "metadata": {},
   "outputs": [],
   "source": [
    "from comparative_translator import Locale_Translation\n",
    "from excel_tools import Ranked_Translations, methods, dict2excel\n",
    "from online_translator import neuro_translate, translate_phrases\n",
    "from utilities import dict2json, file2dict\n",
    "from tqdm import tqdm\n"
   ]
  },
  {
   "cell_type": "code",
   "execution_count": 2,
   "id": "c7656731",
   "metadata": {},
   "outputs": [],
   "source": [
    "locale_path = \"Locales_1_21\"\n",
    "loc_par = [\n",
    "    [\"en_US_1_21.lang\", \"en_us_1_21.json\"],\n",
    "    [\"nb_NO_1_21.lang\", \"no_NO_1_21.json\"],\n",
    "    [\"fi_FI_1_21.lang\",\"fi_FI_1_21.json\"]\n",
    "]\n",
    "target_loc = \"se_NO_1_21.json\"\n",
    "out_gen_trans = \"se_no_ranked.json\"\n",
    "\n",
    "en_lang = file2dict(\"Locales_1_21/en_US_1_21.lang\")\n",
    "en_json = file2dict(\"Locales_1_21/en_us_1_21.json\")\n",
    "sme_json = file2dict(\"Locales_1_21/se_NO_1_21.json\")\n",
    "sme_old_lang = file2dict(\"Locales_1_7/se_NO.lang\")\n"
   ]
  },
  {
   "cell_type": "code",
   "execution_count": 3,
   "id": "ac283441",
   "metadata": {},
   "outputs": [
    {
     "name": "stdout",
     "output_type": "stream",
     "text": [
      "8801 11141\n",
      "7890\n"
     ]
    }
   ],
   "source": [
    "old_lang_keys = set(sme_old_lang.keys())\n",
    "en_lang_keys = set(en_lang.keys())\n",
    "\n",
    "print(len(old_lang_keys), len(en_lang_keys))\n",
    "\n",
    "shared_keys = old_lang_keys.intersection(en_lang_keys)\n",
    "\n",
    "missing_keys = en_lang_keys - shared_keys\n",
    "\n",
    "print(len(shared_keys))"
   ]
  },
  {
   "cell_type": "code",
   "execution_count": 4,
   "id": "355a359d",
   "metadata": {},
   "outputs": [
    {
     "name": "stdout",
     "output_type": "stream",
     "text": [
      "string index out of range\n",
      "Format error in lang file, Line 1:\n",
      "﻿\n",
      "\n",
      "string index out of range\n",
      "Format error in lang file, Line 1:\n",
      "﻿\n",
      "\n",
      "Finding corresponding keys.\n"
     ]
    },
    {
     "name": "stderr",
     "output_type": "stream",
     "text": [
      "100%|██████████| 11141/11141 [00:29<00:00, 377.66it/s]\n",
      "100%|██████████| 11141/11141 [00:59<00:00, 187.98it/s]\n",
      "100%|██████████| 11141/11141 [02:09<00:00, 86.26it/s] \n"
     ]
    }
   ],
   "source": [
    "lt = Locale_Translation(loc_par, target_loc, LOCALE_PATH=locale_path)\n",
    "lt.find_corresponding_keys()  # Use english dictionary keys as basis"
   ]
  },
  {
   "cell_type": "code",
   "execution_count": 5,
   "id": "fed5707a",
   "metadata": {},
   "outputs": [
    {
     "name": "stdout",
     "output_type": "stream",
     "text": [
      "765\n",
      "258\n",
      "313\n"
     ]
    }
   ],
   "source": [
    "for p in lt.pairs:\n",
    "    for k in shared_keys:\n",
    "        if k in p.corresponding.keys():\n",
    "            del p.corresponding[k]\n",
    "    print(len(p.corresponding.keys()))\n",
    "# 765, 258\n",
    "\n"
   ]
  },
  {
   "cell_type": "code",
   "execution_count": 6,
   "id": "352b5e8f",
   "metadata": {},
   "outputs": [],
   "source": [
    "generated = lt.rank_and_generate()"
   ]
  },
  {
   "cell_type": "code",
   "execution_count": 7,
   "id": "ddf183f0",
   "metadata": {},
   "outputs": [],
   "source": [
    "for k in shared_keys:\n",
    "    generated[k] = {\n",
    "        \"value\": sme_old_lang[k],\n",
    "        \"rank\": \"FROM_OLD_LANG\",\n",
    "        \"quality\": 3\n",
    "    }"
   ]
  },
  {
   "cell_type": "code",
   "execution_count": 9,
   "id": "7b6e8187",
   "metadata": {},
   "outputs": [
    {
     "name": "stdout",
     "output_type": "stream",
     "text": [
      "string index out of range\n",
      "Format error in lang file, Line 1:\n",
      "﻿\n",
      "\n",
      "11141 7890 2436 815\n"
     ]
    },
    {
     "name": "stderr",
     "output_type": "stream",
     "text": [
      "100%|██████████| 2436/2436 [10:35<00:00,  3.83it/s]\n"
     ]
    }
   ],
   "source": [
    "#fin_lang = file2dict(\"Locales_1_21/fi_FI_1_21.lang\")\n",
    "#left_keys = set(fin_lang.keys()) - set(generated.keys())\n",
    "nob_lang = file2dict(\"Locales_1_21/nb_NO_1_21.lang\")\n",
    "left_keys = set(nob_lang.keys()) - set(generated.keys())\n",
    "\"\"\"\n",
    "finsme = {}\n",
    "for k in tqdm(left_keys):\n",
    "    trans = neuro_translate(fin_lang[k], \"fin\", \"sme\")\n",
    "    generated[k] = {\n",
    "        \"value\": trans,\n",
    "        \"rank\": \"MACHINE_TRANSLATED\",\n",
    "        \"quality\": 0\n",
    "    }\n",
    "    finsme[k] = trans\n",
    "\"\"\"\n",
    "#phrases = [finsme[k] for k in left_keys]\n",
    "phrases = [nob_lang[k] for k in left_keys]\n",
    "print(len(en_lang_keys), len(shared_keys), len(phrases), len(en_lang_keys)-len(phrases)-len(shared_keys))\n",
    "\n",
    "translated = await translate_phrases(phrases, \"nor\", \"sme\")\n",
    "#translated = await translate_phrases(phrases, \"fin\", \"sme\")\n",
    "\n",
    "nobsme = {}\n",
    "for i, k in enumerate(left_keys):\n",
    "    nobsme[k] = translated[i]\n",
    "    generated[k] = {\n",
    "        \"value\": translated[i],\n",
    "        \"rank\": \"MACHINE_TRANSLATED\",\n",
    "        \"quality\": 0\n",
    "    }"
   ]
  },
  {
   "cell_type": "code",
   "execution_count": 13,
   "id": "69ff8a05",
   "metadata": {},
   "outputs": [],
   "source": [
    "rt = Ranked_Translations(generated)\n",
    "rt.to_excel(\"ranked_sme_from_nob.xlsx\", \"Locales_1_21/en_US_1_21.lang\")"
   ]
  },
  {
   "cell_type": "code",
   "execution_count": 11,
   "id": "fea331f2",
   "metadata": {},
   "outputs": [],
   "source": [
    "#dict2excel(finsme, \"finsme.xlsx\", \"Locales_1_21/en_US_1_21.lang\")\n",
    "dict2excel(nobsme, \"nobsme.xlsx\", \"Locales_1_21/en_US_1_21.lang\")"
   ]
  },
  {
   "cell_type": "code",
   "execution_count": 12,
   "id": "f3742617",
   "metadata": {},
   "outputs": [],
   "source": [
    "dict2json(generated, \"ranked.json\")"
   ]
  },
  {
   "cell_type": "code",
   "execution_count": null,
   "id": "27a96449",
   "metadata": {},
   "outputs": [
    {
     "ename": "NameError",
     "evalue": "name 'left_keys' is not defined",
     "output_type": "error",
     "traceback": [
      "\u001b[1;31m---------------------------------------------------------------------------\u001b[0m",
      "\u001b[1;31mNameError\u001b[0m                                 Traceback (most recent call last)",
      "Cell \u001b[1;32mIn[1], line 1\u001b[0m\n\u001b[1;32m----> 1\u001b[0m \u001b[38;5;28;01mfor\u001b[39;00m i, k \u001b[38;5;129;01min\u001b[39;00m \u001b[38;5;28menumerate\u001b[39m(\u001b[43mleft_keys\u001b[49m):\n\u001b[0;32m      2\u001b[0m     generated[k] \u001b[38;5;241m=\u001b[39m translated[i]\n\u001b[0;32m      3\u001b[0m rt \u001b[38;5;241m=\u001b[39m Ranked_Translations(generated)\n",
      "\u001b[1;31mNameError\u001b[0m: name 'left_keys' is not defined"
     ]
    }
   ],
   "source": []
  },
  {
   "cell_type": "code",
   "execution_count": null,
   "id": "7f0e911c",
   "metadata": {},
   "outputs": [],
   "source": []
  }
 ],
 "metadata": {
  "kernelspec": {
   "display_name": "Python 3",
   "language": "python",
   "name": "python3"
  },
  "language_info": {
   "codemirror_mode": {
    "name": "ipython",
    "version": 3
   },
   "file_extension": ".py",
   "mimetype": "text/x-python",
   "name": "python",
   "nbconvert_exporter": "python",
   "pygments_lexer": "ipython3",
   "version": "3.12.0"
  }
 },
 "nbformat": 4,
 "nbformat_minor": 5
}
