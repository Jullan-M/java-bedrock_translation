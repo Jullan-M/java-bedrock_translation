{
 "cells": [
  {
   "cell_type": "code",
   "execution_count": 7,
   "metadata": {},
   "outputs": [],
   "source": [
    "from comparative_translator import Locale_Translation, Locale_Pair\r\n",
    "from utilities import json2dict, lang2dict\r\n"
   ]
  },
  {
   "cell_type": "code",
   "execution_count": 8,
   "metadata": {},
   "outputs": [],
   "source": [
    "se_new = json2dict(\"Locales_1_7/se_no_1_7.json\")\n",
    "se_old = json2dict(\"Locales/se_no.json\")\n",
    "new_keys = set(se_new.keys())\n",
    "old_keys = set(se_old.keys())"
   ]
  },
  {
   "cell_type": "code",
   "execution_count": 9,
   "metadata": {},
   "outputs": [],
   "source": [
    "loc_pairs = [[\"en_US_1_7.lang\", \"en_us_1_7.json\"],\n",
    "[\"en_US_1_7.lang\", \"en_us_1_7.json\"],\n",
    "[\"en_US_1_7.lang\", \"en_us_1_7.json\"]]\n",
    "target_loc = \"se_no_1_7.json\"\n",
    "\n",
    "diff_keys = list(new_keys - old_keys)\n",
    "lt = Locale_Translation(loc_pairs, target_loc, LOCALE_PATH=\"Locales_1_7\")"
   ]
  },
  {
   "cell_type": "code",
   "execution_count": 10,
   "metadata": {},
   "outputs": [
    {
     "name": "stderr",
     "output_type": "stream",
     "text": [
      "100%|██████████| 8802/8802 [00:06<00:00, 1420.52it/s]\n",
      "100%|██████████| 8802/8802 [00:06<00:00, 1428.02it/s]\n",
      "100%|██████████| 8802/8802 [00:06<00:00, 1432.20it/s]\n"
     ]
    }
   ],
   "source": [
    "lt.find_corresponding_keys(diff_keys)"
   ]
  },
  {
   "cell_type": "code",
   "execution_count": 11,
   "metadata": {},
   "outputs": [],
   "source": [
    "rts = lt.rank_and_generate()"
   ]
  },
  {
   "cell_type": "code",
   "execution_count": 12,
   "metadata": {},
   "outputs": [],
   "source": [
    "from excel_tools import Ranked_Translations\n",
    "colored = Ranked_Translations(rts)"
   ]
  },
  {
   "cell_type": "code",
   "execution_count": 14,
   "metadata": {},
   "outputs": [],
   "source": [
    "colored.to_excel(\"new_in_1_7.xlsx\")"
   ]
  },
  {
   "cell_type": "code",
   "execution_count": 19,
   "metadata": {},
   "outputs": [],
   "source": [
    "from utilities import dict2json\n",
    "dict2json(rts, \"1_7_ranked.json\")"
   ]
  },
  {
   "cell_type": "code",
   "execution_count": null,
   "metadata": {},
   "outputs": [],
   "source": []
  }
 ],
 "metadata": {
  "kernelspec": {
   "display_name": "Python 3.8.3 64-bit",
   "name": "python383jvsc74a57bd02db524e06e9f5f4ffedc911c917cb75e12dbc923643829bf417064a77eb14d37"
  },
  "language_info": {
   "codemirror_mode": {
    "name": "ipython",
    "version": 3
   },
   "file_extension": ".py",
   "mimetype": "text/x-python",
   "name": "python",
   "nbconvert_exporter": "python",
   "pygments_lexer": "ipython3",
   "version": "3.8.3"
  },
  "orig_nbformat": 2
 },
 "nbformat": 4,
 "nbformat_minor": 2
}