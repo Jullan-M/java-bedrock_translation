{
 "metadata": {
  "language_info": {
   "codemirror_mode": {
    "name": "ipython",
    "version": 3
   },
   "file_extension": ".py",
   "mimetype": "text/x-python",
   "name": "python",
   "nbconvert_exporter": "python",
   "pygments_lexer": "ipython3",
   "version": "3.8.3"
  },
  "orig_nbformat": 2,
  "kernelspec": {
   "name": "python383jvsc74a57bd02db524e06e9f5f4ffedc911c917cb75e12dbc923643829bf417064a77eb14d37",
   "display_name": "Python 3.8.3 64-bit"
  }
 },
 "nbformat": 4,
 "nbformat_minor": 2,
 "cells": [
  {
   "cell_type": "code",
   "execution_count": 1,
   "metadata": {},
   "outputs": [],
   "source": [
    "from openpyxl import Workbook\n",
    "from openpyxl.styles import PatternFill, colors\n",
    "from openpyxl.cell.cell import Cell\n",
    "from openpyxl import load_workbook\n",
    "from utilities import json2dict"
   ]
  },
  {
   "cell_type": "code",
   "execution_count": 2,
   "metadata": {},
   "outputs": [],
   "source": [
    "methods = {\n",
    "    \"EQUAL\": \"00FF00\",\n",
    "    \"EQUAL_LOWERCASE\": \"008000\",\n",
    "    \"EQUAL_STRIPPED\": \"008080\",\n",
    "    \"EQUAL_KEYS\": \"FF00FF\",\n",
    "    \"SIMILAR_LCS\": \"080000\"\n",
    "}\n",
    "\n",
    "def rank_cell(cell, rank, quality):\n",
    "        color = methods[rank]\n",
    "        if quality == 0:\n",
    "            # If only 1 locale consists of translation, make color \"Reddish\".\n",
    "            color = \"FF\" + color[2:]\n",
    "        elif rank != \"EQUAL_LOWERCASE\" and quality >= 1:\n",
    "            # If translation is consistent across 2 or more locales, then GREEN.\n",
    "            color = \"00FF00\"\n",
    "        elif quality > 1:\n",
    "            color = \"00FF00\"\n",
    "\n",
    "        # Fill background of cell with color\n",
    "        pf = PatternFill(\"solid\", fgColor=colors.Color(color))\n",
    "        cell.fill = pf"
   ]
  },
  {
   "cell_type": "code",
   "execution_count": 3,
   "metadata": {},
   "outputs": [],
   "source": [
    "workbook = load_workbook(\"1_7_se.xlsx\")\n",
    "workbook.sheetnames\n",
    "sh1 = workbook.active\n",
    "rts = json2dict(\"1_7_ranked.json\")"
   ]
  },
  {
   "cell_type": "code",
   "execution_count": 4,
   "metadata": {},
   "outputs": [
    {
     "output_type": "stream",
     "name": "stdout",
     "text": [
      "112\n"
     ]
    }
   ],
   "source": [
    "ks, vs = sh1[\"A\"][1:], sh1[\"B\"][1:]\n",
    "counter = 0\n",
    "for c1, c2 in zip(ks, vs):\n",
    "    k, v = c1.value, c2.value\n",
    "    if k in rts:\n",
    "        if rts[k][\"value\"] == v:\n",
    "            rank_cell(c2, rts[k][\"rank\"], rts[k][\"quality\"])\n",
    "            counter += 1\n",
    "        elif not v:\n",
    "            c2.value = rts[k][\"value\"]\n",
    "            rank_cell(c2, rts[k][\"rank\"], rts[k][\"quality\"])\n",
    "            counter += 1\n",
    "print(counter)"
   ]
  },
  {
   "cell_type": "code",
   "execution_count": 5,
   "metadata": {},
   "outputs": [],
   "source": [
    "workbook.save(\"main.xlsx\")"
   ]
  },
  {
   "cell_type": "code",
   "execution_count": null,
   "metadata": {},
   "outputs": [],
   "source": []
  }
 ]
}